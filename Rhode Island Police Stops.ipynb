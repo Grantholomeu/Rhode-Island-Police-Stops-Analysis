{
 "cells": [
  {
   "cell_type": "code",
   "execution_count": 77,
   "metadata": {},
   "outputs": [],
   "source": [
    "import pandas as pd\n",
    "import numpy as np\n",
    "import matplotlib.pyplot as plt\n",
    "import seaborn as sns"
   ]
  },
  {
   "cell_type": "code",
   "execution_count": 78,
   "metadata": {},
   "outputs": [
    {
     "name": "stderr",
     "output_type": "stream",
     "text": [
      "c:\\users\\grant\\appdata\\local\\programs\\python\\python39\\lib\\site-packages\\IPython\\core\\interactiveshell.py:3146: DtypeWarning: Columns (6,17,30) have mixed types.Specify dtype option on import or set low_memory=False.\n",
      "  has_raised = await self.run_ast_nodes(code_ast.body, cell_name,\n"
     ]
    }
   ],
   "source": [
    "ri = pd.read_csv(\"ri_statewide_2020_04_01.csv\")\n",
    "#print(ri.head())"
   ]
  },
  {
   "cell_type": "markdown",
   "metadata": {},
   "source": [
    "Above we import a csv and inspect it. We learn that columns 6, 17, and 30 have mixed data types. "
   ]
  },
  {
   "cell_type": "code",
   "execution_count": 79,
   "metadata": {},
   "outputs": [
    {
     "name": "stdout",
     "output_type": "stream",
     "text": [
      "raw_row_number                0\n",
      "date                         10\n",
      "time                         10\n",
      "zone                         10\n",
      "subject_race              29073\n",
      "subject_sex               29097\n",
      "department_id                10\n",
      "type                          0\n",
      "arrest_made               29073\n",
      "citation_issued           29073\n",
      "warning_issued            29073\n",
      "outcome                   35841\n",
      "contraband_found         491919\n",
      "contraband_drugs         493693\n",
      "contraband_weapons       497886\n",
      "contraband_alcohol       508464\n",
      "contraband_other         491919\n",
      "frisk_performed              10\n",
      "search_conducted              0\n",
      "search_basis             491919\n",
      "reason_for_search        491919\n",
      "reason_for_stop           29073\n",
      "vehicle_make             191564\n",
      "vehicle_model            279593\n",
      "raw_BasisForStop          29073\n",
      "raw_OperatorRace          29073\n",
      "raw_OperatorSex           29073\n",
      "raw_ResultOfStop          29073\n",
      "raw_SearchResultOne      491919\n",
      "raw_SearchResultTwo      508862\n",
      "raw_SearchResultThree    509513\n",
      "dtype: int64\n",
      "(509681, 31)\n"
     ]
    }
   ],
   "source": [
    "print(ri.isnull().sum())\n",
    "print(ri.shape)"
   ]
  },
  {
   "cell_type": "markdown",
   "metadata": {},
   "source": [
    "Above we check the shape of the dataframe. We learn that there are 31 columns and 509681 rows. Next, we check which rows have null values. Some rows have mostly null values, but none are completely null. "
   ]
  },
  {
   "cell_type": "code",
   "execution_count": 80,
   "metadata": {},
   "outputs": [
    {
     "name": "stdout",
     "output_type": "stream",
     "text": [
      "raw_row_number                0\n",
      "date                          0\n",
      "time                          0\n",
      "zone                          0\n",
      "subject_race                  0\n",
      "subject_sex                   0\n",
      "department_id                 0\n",
      "type                          0\n",
      "arrest_made                   0\n",
      "citation_issued               0\n",
      "warning_issued                0\n",
      "outcome                    6763\n",
      "contraband_found         462822\n",
      "contraband_drugs         464596\n",
      "contraband_weapons       468789\n",
      "contraband_alcohol       479367\n",
      "contraband_other         462822\n",
      "frisk_performed               0\n",
      "search_conducted              0\n",
      "search_basis             462822\n",
      "reason_for_search        462822\n",
      "reason_for_stop               0\n",
      "vehicle_make             162525\n",
      "vehicle_model            250553\n",
      "raw_BasisForStop              0\n",
      "raw_OperatorRace              0\n",
      "raw_OperatorSex               0\n",
      "raw_ResultOfStop              0\n",
      "raw_SearchResultOne      462822\n",
      "raw_SearchResultTwo      479765\n",
      "raw_SearchResultThree    480416\n",
      "dtype: int64\n",
      "(480584, 31)\n"
     ]
    }
   ],
   "source": [
    "ri.dropna(subset=['subject_sex'], inplace=True)\n",
    "print(ri.isnull().sum())\n",
    "print(ri.shape)"
   ]
  },
  {
   "cell_type": "markdown",
   "metadata": {},
   "source": [
    "We are interested to see if a citizen's sex affects how they are treated by the police, but we had a lot of rows with no info on the sex of the citizen. So above we delete all rows without the citizen's sex data. We then check the null sums and shape of the dataframe again to make sure everything has gone according to plan. We can see that we have no null values in the subject_sex column, and also it seems that many other columns shared null values in those rows, because many other columns now also have zero null values. We can also be doubly sure this worked because our shape output tells us we are down a number of rows equal to the number of null values that were in the subject_sex column. "
   ]
  },
  {
   "cell_type": "code",
   "execution_count": 81,
   "metadata": {},
   "outputs": [],
   "source": [
    "#print(ri[['citation_issued', 'arrest_made']].value_counts())\n",
    "ri['citation_issued'] = ri.citation_issued.astype('bool')\n",
    "ri['arrest_made'] = ri.arrest_made.astype('bool')"
   ]
  },
  {
   "cell_type": "markdown",
   "metadata": {},
   "source": [
    "Here we checked the first few rows of our new dataframe without a lot of null values to see which data types were common. We found that almost all columns contained objects, but a few could easily be converted into boolean values. Since both 'citation_issued' and 'arrest_made' contained only true and false values, we converted them into booleans for easier operating. "
   ]
  },
  {
   "cell_type": "code",
   "execution_count": 82,
   "metadata": {},
   "outputs": [
    {
     "name": "stdout",
     "output_type": "stream",
     "text": [
      "0   2005-11-22 11:15:00\n",
      "1   2005-10-01 12:20:00\n",
      "2   2005-10-01 12:30:00\n",
      "3   2005-10-01 12:50:00\n",
      "4   2005-10-01 13:10:00\n",
      "Name: datetime, dtype: datetime64[ns]\n"
     ]
    }
   ],
   "source": [
    "#print(ri.date.head())\n",
    "#print(ri.time.head())\n",
    "combined = ri.date.str.cat(ri.time, sep=' ')\n",
    "ri['datetime'] = pd.to_datetime(combined)\n",
    "print(ri.datetime.head())"
   ]
  },
  {
   "cell_type": "markdown",
   "metadata": {},
   "source": [
    "Above, we checked to make sure our date and time columns looked useable, which they did. We then combined them to make a datetime object, but also kept the old columns to have the adaptability of object functions and datetime functions. "
   ]
  },
  {
   "cell_type": "code",
   "execution_count": 83,
   "metadata": {},
   "outputs": [
    {
     "name": "stdout",
     "output_type": "stream",
     "text": [
      "female citations overall below\n",
      "True     0.897337\n",
      "False    0.102663\n",
      "Name: citation_issued, dtype: float64\n",
      "male citations overall below\n",
      "True     0.88913\n",
      "False    0.11087\n",
      "Name: citation_issued, dtype: float64\n"
     ]
    }
   ],
   "source": [
    "#print(ri.columns)\n",
    "female = ri[ri.subject_sex == 'female']\n",
    "male = ri[ri.subject_sex == 'male']\n",
    "#print(female.shape)\n",
    "#print(male.shape)\n",
    "print('female citations overall below')\n",
    "print(female.citation_issued.value_counts(normalize=True))\n",
    "print('male citations overall below')\n",
    "print(male.citation_issued.value_counts(normalize=True))"
   ]
  },
  {
   "cell_type": "markdown",
   "metadata": {},
   "source": [
    "Above, we established subsetted dataframes containing only either females or males who were stopped by the police. We then calculated the percentages at which each sex receives citations. At least in Rhode Island, the citation rates look pretty consistant, with less than a 1% difference in citation rates between males and females overall. "
   ]
  },
  {
   "cell_type": "code",
   "execution_count": 84,
   "metadata": {},
   "outputs": [
    {
     "name": "stdout",
     "output_type": "stream",
     "text": [
      "white females' citation rate below\n",
      "True     0.904959\n",
      "False    0.095041\n",
      "Name: citation_issued, dtype: float64\n",
      "black females' citation rate below\n",
      "True     0.860772\n",
      "False    0.139228\n",
      "Name: citation_issued, dtype: float64\n",
      "asian/pacific islander females' citation rate below\n",
      "True     0.92903\n",
      "False    0.07097\n",
      "Name: citation_issued, dtype: float64\n",
      "hispanic females' citation rate below\n",
      "True     0.864146\n",
      "False    0.135854\n",
      "Name: citation_issued, dtype: float64\n",
      "other females' citation rate below\n",
      "True     0.905882\n",
      "False    0.094118\n",
      "Name: citation_issued, dtype: float64\n",
      "white males' citation rate below\n",
      "True     0.901432\n",
      "False    0.098568\n",
      "Name: citation_issued, dtype: float64\n",
      "hispanic males' citation rate below\n",
      "True     0.849354\n",
      "False    0.150646\n",
      "Name: citation_issued, dtype: float64\n",
      "black males' citation rate below\n",
      "True     0.85787\n",
      "False    0.14213\n",
      "Name: citation_issued, dtype: float64\n",
      "other males' citation rate below\n",
      "True     0.921028\n",
      "False    0.078972\n",
      "Name: citation_issued, dtype: float64\n",
      "asian/pacific islander males' citation rate below\n",
      "True     0.92742\n",
      "False    0.07258\n",
      "Name: citation_issued, dtype: float64\n"
     ]
    }
   ],
   "source": [
    "for race in female['subject_race'].unique():\n",
    "    print(race + ' females\\' citation rate below')\n",
    "    print(female[female.subject_race == race].citation_issued.value_counts(normalize=True))\n",
    "    \n",
    "for race in male['subject_race'].unique():\n",
    "    print(race + ' males\\' citation rate below')\n",
    "    print(male[male.subject_race == race].citation_issued.value_counts(normalize=True))"
   ]
  },
  {
   "cell_type": "markdown",
   "metadata": {},
   "source": [
    "Above, we wanted to get more data to gain insight on whether or not race can have an effect on the likeliness someone will receive a citation. We created two for-loops, one for females and one for males, that iterate through every unique race and outputs values similar to what we did with females and males before. But now we can see the citation rate for white females, white males, black females, black males, and so on. "
   ]
  },
  {
   "cell_type": "code",
   "execution_count": 85,
   "metadata": {},
   "outputs": [
    {
     "data": {
      "image/png": "[encoded data removed]",
      "text/plain": [
       "<Figure size 432x288 with 1 Axes>"
      ]
     },
     "metadata": {
      "needs_background": "light"
     },
     "output_type": "display_data"
    }
   ],
   "source": [
    "#female_cite = [0.904, 0.860, 0.929, 0.864, 0.905]\n",
    "#labels = ['white', 'black', 'asian/pacific islander', 'hispanic', 'other']\n",
    "#male_cite = [0.901, 0.857, 0.927, 0.849, 0.921]\n",
    "\n",
    "race_cite = ri.groupby('subject_race').citation_issued.mean()\n",
    "race_cite = race_cite.sort_values()\n",
    "race_cite.plot(kind='bar')\n",
    "plt.ylim(0.8, 1.0)\n",
    "plt.title('Races by Citation Rate')\n",
    "plt.xlabel('Race')\n",
    "plt.ylabel('Citation Rate')\n",
    "plt.show()"
   ]
  },
  {
   "cell_type": "code",
   "execution_count": 86,
   "metadata": {},
   "outputs": [
    {
     "data": {
      "image/png": "[encoded data removed]",
      "text/plain": [
       "<Figure size 432x288 with 1 Axes>"
      ]
     },
     "metadata": {
      "needs_background": "light"
     },
     "output_type": "display_data"
    }
   ],
   "source": [
    "frace_cite = female.groupby('subject_race').citation_issued.mean()\n",
    "frace_cite = frace_cite.sort_values()\n",
    "frace_cite.plot(kind='bar')\n",
    "plt.ylim(0.8, 1.0)\n",
    "plt.title('Female Races by Citation Rate')\n",
    "plt.xlabel('Race')\n",
    "plt.ylabel('Citation Rate')\n",
    "plt.show()"
   ]
  },
  {
   "cell_type": "code",
   "execution_count": 87,
   "metadata": {},
   "outputs": [
    {
     "data": {
      "image/png": "[encoded data removed]",
      "text/plain": [
       "<Figure size 432x288 with 1 Axes>"
      ]
     },
     "metadata": {
      "needs_background": "light"
     },
     "output_type": "display_data"
    }
   ],
   "source": [
    "mrace_cite = male.groupby('subject_race').citation_issued.mean()\n",
    "mrace_cite = mrace_cite.sort_values()\n",
    "mrace_cite.plot(kind='bar')\n",
    "plt.ylim(0.8, 1.0)\n",
    "plt.title('Male Races by Citation Rate')\n",
    "plt.xlabel('Race')\n",
    "plt.ylabel('Citation Rate')\n",
    "plt.show()"
   ]
  },
  {
   "cell_type": "markdown",
   "metadata": {},
   "source": [
    "First we made a graph showing the citation rate for each recorded race. Then we made two more graphs doing the same thing but only for females and males respectively. We can see that being male or female does not affect the rate of citation much, though there is a little variation in the \"other\" race. "
   ]
  }
 ],
 "metadata": {
  "kernelspec": {
   "display_name": "Python 3",
   "language": "python",
   "name": "python3"
  },
  "language_info": {
   "codemirror_mode": {
    "name": "ipython",
    "version": 3
   },
   "file_extension": ".py",
   "mimetype": "text/x-python",
   "name": "python",
   "nbconvert_exporter": "python",
   "pygments_lexer": "ipython3",
   "version": "3.9.0"
  }
 },
 "nbformat": 4,
 "nbformat_minor": 4
}
